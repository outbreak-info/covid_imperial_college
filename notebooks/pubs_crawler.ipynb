{
 "cells": [
  {
   "cell_type": "markdown",
   "metadata": {},
   "source": [
    "## Spiral Report crawler\n",
    "\n",
    "Imperial College London has an open access repository, called Spiral. \n",
    "Spiral hosts the reports with more of the metadata exposed than is exposed in the public website access for the reports. Trying to pull the metadata from the public website links requires multiple pages with multiple levels of parsing. For the reports, it's easier to use the data pulled from spiral"
   ]
  },
  {
   "cell_type": "code",
   "execution_count": 1,
   "metadata": {},
   "outputs": [],
   "source": [
    "import requests\n",
    "from bs4 import BeautifulSoup\n",
    "import json\n",
    "from datetime import datetime"
   ]
  },
  {
   "cell_type": "markdown",
   "metadata": {},
   "source": [
    "Create the Curation Object (ie- the curatedBy object)"
   ]
  },
  {
   "cell_type": "code",
   "execution_count": 2,
   "metadata": {},
   "outputs": [],
   "source": [
    "def create_curationObject():\n",
    "    now = datetime.now()\n",
    "    curatedBy = {\n",
    "    \"@type\": \"Organization\",\n",
    "    'identifier': 'imperialcollege',\n",
    "    'url': 'http://www.imperial.ac.uk/mrc-global-infectious-disease-analysis/covid-19/covid-19-reports/',\n",
    "    \"name\": \"MRC Centre for Global Infectious Disease Analysis\",\n",
    "    \"affiliation\": [\"Imperial College London\"],\n",
    "    \"curationDate\":now.strftime(\"%Y-%m-%d\")\n",
    "    }    \n",
    "    return(curatedBy)"
   ]
  },
  {
   "cell_type": "markdown",
   "metadata": {},
   "source": [
    "Query Spiral for COVID-19 reports and parse the result into a list of urls of the individual report pages"
   ]
  },
  {
   "cell_type": "code",
   "execution_count": 13,
   "metadata": {},
   "outputs": [],
   "source": [
    "def get_report_links(reports_url):\n",
    "    recordlist = requests.get(reports_url)\n",
    "    spiralbase = \"https://spiral.imperial.ac.uk\"\n",
    "    parsedrecordlist = BeautifulSoup(recordlist.text, \"html.parser\")\n",
    "    urlstable = parsedrecordlist.findAll(\"table\")[0]\n",
    "    urlstublist = urlstable.findAll(\"a\")\n",
    "    url_list = []\n",
    "    for eachlink in urlstublist:\n",
    "        tmpurl = spiralbase+eachlink.get(\"href\")\n",
    "        url_list.append(tmpurl)\n",
    "    return(url_list)"
   ]
  },
  {
   "cell_type": "markdown",
   "metadata": {},
   "source": [
    "Since we're dealing with html files, create a function to get content for a specific tag"
   ]
  },
  {
   "cell_type": "code",
   "execution_count": 4,
   "metadata": {},
   "outputs": [],
   "source": [
    "def get_meta_content(metacontentfield):\n",
    "    if len(metacontentfield) == 1:\n",
    "        metacontentlist = metacontentfield[0].get(\"content\")\n",
    "    else:\n",
    "        metacontentlist = []\n",
    "        for eachitem in metacontentfield:\n",
    "            metaitem = eachitem.get(\"content\")\n",
    "            metacontentlist.append(metaitem)\n",
    "    return(metacontentlist)   "
   ]
  },
  {
   "cell_type": "markdown",
   "metadata": {},
   "source": [
    "Pull content from the appropriate meta data tags and format it"
   ]
  },
  {
   "cell_type": "code",
   "execution_count": 5,
   "metadata": {},
   "outputs": [],
   "source": [
    "def transform_pub_meta(soupobject):\n",
    "    urlfield = soupobject.findAll(\"meta\", {\"name\":\"citation_pdf_url\"})\n",
    "    url = get_meta_content(urlfield)\n",
    "    titlefield = soupobject.findAll(\"meta\", {\"name\":\"citation_title\"})\n",
    "    title = get_meta_content(titlefield)\n",
    "    datePublishedfield = soupobject.findAll(\"meta\", {\"name\":\"citation_date\"})\n",
    "    datePublished = get_meta_content(datePublishedfield)\n",
    "    abstractfield = soupobject.findAll(\"meta\", {\"name\":\"DCTERMS.abstract\"})\n",
    "    abstract = get_meta_content(abstractfield)\n",
    "    defaultidurlfield = soupobject.findAll(\"meta\", {\"scheme\":\"DCTERMS.URI\"})\n",
    "    defaultid = get_meta_content(defaultidurlfield)\n",
    "    tmpdict = {\n",
    "        \"@context\": {\n",
    "        \"schema\": \"http://schema.org/\",\n",
    "        \"outbreak\": \"https://discovery.biothings.io/view/outbreak/\"\n",
    "        },\n",
    "        \"@type\": \"Publication\",\n",
    "        \"journalName\": \"Imperial College London\",\n",
    "        \"journalNameAbbreviation\": \"imperialcollege\",\n",
    "        \"publicationType\": \"Report\", \n",
    "        \"abstract\":abstract,\n",
    "        \"name\":title,\n",
    "        \"datePublished\":datePublished,\n",
    "        \"url\":url,\n",
    "        \"identifier\":defaultid\n",
    "    }\n",
    "    keywordsfield = soupobject.findAll(\"meta\", {\"name\":\"DC.subject\"})\n",
    "    if len(keywordsfield)>0:\n",
    "        keywordsobject = get_meta_content(keywordsfield)\n",
    "        tmpdict[\"keywords\"] = keywordsobject\n",
    "\n",
    "    licensefield = soupobject.findAll(\"meta\", {\"name\":\"DC.rights\"})\n",
    "    if len(licensefield)>0:\n",
    "        license = get_meta_content(licensefield)\n",
    "        tmpdict[\"license\"] = license\n",
    "        \n",
    "    identifiersfield = soupobject.findAll(\"meta\", {\"name\":\"DC.identifier\"})\n",
    "    for eachitem in identifiersfield:\n",
    "        eachitemcontent = eachitem.get(\"content\")\n",
    "        if \"doi\" in eachitemcontent:\n",
    "            doi = eachitemcontent.replace(\"https://doi.org/\",\"\")\n",
    "            tmpdict[\"identifier\"] = \"icl_\"+doi.split('/', 1)[-1]\n",
    "            tmpdict[\"doi\"] = doi\n",
    "        elif \"10.\" in eachitemcontent:\n",
    "            doi = eachitemcontent\n",
    "            tmpdict[\"identifier\"] = \"icl_\"+doi.split('/', 1)[-1]\n",
    "            tmpdict[\"doi\"] = doi\n",
    "    tmpdict['_id'] = tmpdict[\"identifier\"]\n",
    "    return(tmpdict)"
   ]
  },
  {
   "cell_type": "markdown",
   "metadata": {},
   "source": [
    "Get the Author information"
   ]
  },
  {
   "cell_type": "code",
   "execution_count": 6,
   "metadata": {},
   "outputs": [],
   "source": [
    "def get_authors(soupobject):\n",
    "    authorsfield = soupobject.findAll(\"meta\", {\"name\":\"citation_author\"})\n",
    "    authors = get_meta_content(authorsfield)\n",
    "    authorlist = []\n",
    "    for eachauthor in authors:\n",
    "        authparse = eachauthor.split(\",\")\n",
    "        if (len(authparse) == 2) and len(authparse[1])<3:\n",
    "            authdict = {'@type': 'outbreak:Person', 'affiliation': [], 'name': eachauthor, \n",
    "                       'familyName':authparse[0]}\n",
    "        else:\n",
    "            authdict = {'@type': 'outbreak:Person', 'affiliation': [], 'name': eachauthor}\n",
    "        authorlist.append(authdict)\n",
    "    return(authorlist)"
   ]
  },
  {
   "cell_type": "markdown",
   "metadata": {},
   "source": [
    "Get the funding information"
   ]
  },
  {
   "cell_type": "code",
   "execution_count": 7,
   "metadata": {},
   "outputs": [],
   "source": [
    "def generate_funding_dict(funder,identifier=None):\n",
    "    fundict = {\"@type\": \"MonetaryGrant\",\n",
    "               \"funder\": {\"name\": funder},\n",
    "               \"name\": \"\"\n",
    "               }    \n",
    "    if identifier != None:\n",
    "        fundict[\"identifier\"]=identifier\n",
    "    return(fundict)\n",
    "\n",
    "def get_funding(soupobject):\n",
    "    fundersfield = soupobject.findAll(\"meta\", {\"name\":\"DC.contributor\"})\n",
    "    funders = get_meta_content(fundersfield)\n",
    "    fundercheck = len(fundersfield)\n",
    "    if fundercheck > 0:\n",
    "        identifiersfield = soupobject.findAll(\"meta\", {\"name\":\"DC.identifier\"}) \n",
    "        fundidlist = []\n",
    "        for eachitem in identifiersfield:\n",
    "            eachitemcontent = eachitem.get(\"content\")\n",
    "            if (\"https:\" in eachitemcontent) or (\"http:\" in eachitemcontent):\n",
    "                miscurls = eachitemcontent\n",
    "            else:\n",
    "                fundingid = eachitemcontent\n",
    "                fundidlist.append(fundingid)\n",
    "        fundlist = []\n",
    "        i=0\n",
    "        if len(funders)==len(fundidlist): ## There are the same amount of funders as ids\n",
    "            while i < len(funders):\n",
    "                fundict = generate_funding_dict(funders[i],fundidlist[i])\n",
    "                fundlist.append(fundict)\n",
    "                i=i+1\n",
    "        elif len(funders)>len(fundidlist): ## There are more funders than ids, map the MR ones, then ignore ids\n",
    "            mrfunds = [x for x in funders if \"MRC\" in x]\n",
    "            mrids = [x for x in fundidlist if \"MR\" in x]\n",
    "            while i < len(mrfunds):\n",
    "                fundict = generate_funding_dict(mrfunds[i],mrids[i])\n",
    "                fundlist.append(fundict)\n",
    "                i=i+1\n",
    "            remaining_funders = [x for x in funders if x not in mrfunds]\n",
    "            remaining_fundids = [x for x in fundidlist if x not in mrids]\n",
    "            j=0\n",
    "            if (len(remaining_fundids)==0) and (len(remaining_funders)>0):\n",
    "                while j<len(remaining_funders):\n",
    "                    fundict = generate_funding_dict(remaining_funders[j])\n",
    "                    fundlist.append(fundict)\n",
    "                    j=j+1\n",
    "        else: ##There are more ids than funders, and it will be impossible to map them\n",
    "            while i < len(funders):\n",
    "                fundict = generate_funding_dict(funders[i])\n",
    "                fundlist.append(fundict)\n",
    "                i=i+1            \n",
    "        fundflag = True\n",
    "    else:\n",
    "        fundlist = []\n",
    "        fundflag = False\n",
    "    return(fundlist, fundflag)"
   ]
  },
  {
   "cell_type": "markdown",
   "metadata": {},
   "source": [
    "## Main"
   ]
  },
  {
   "cell_type": "code",
   "execution_count": 14,
   "metadata": {},
   "outputs": [
    {
     "name": "stdout",
     "output_type": "stream",
     "text": [
      "['https://spiral.imperial.ac.uk/handle/10044/1/84879', 'https://spiral.imperial.ac.uk/handle/10044/1/84788', 'https://spiral.imperial.ac.uk/handle/10044/1/84283', 'https://spiral.imperial.ac.uk/handle/10044/1/84270', 'https://spiral.imperial.ac.uk/handle/10044/1/84220', 'https://spiral.imperial.ac.uk/handle/10044/1/84873', 'https://spiral.imperial.ac.uk/handle/10044/1/83928', 'https://spiral.imperial.ac.uk/handle/10044/1/83929', 'https://spiral.imperial.ac.uk/handle/10044/1/83545', 'https://spiral.imperial.ac.uk/handle/10044/1/82822', 'https://spiral.imperial.ac.uk/handle/10044/1/82551', 'https://spiral.imperial.ac.uk/handle/10044/1/82443', 'https://spiral.imperial.ac.uk/handle/10044/1/83126', 'https://spiral.imperial.ac.uk/handle/10044/1/80360', 'https://spiral.imperial.ac.uk/handle/10044/1/80295', 'https://spiral.imperial.ac.uk/handle/10044/1/79984', 'https://spiral.imperial.ac.uk/handle/10044/1/79837', 'https://spiral.imperial.ac.uk/handle/10044/1/79643', 'https://spiral.imperial.ac.uk/handle/10044/1/79388', 'https://spiral.imperial.ac.uk/handle/10044/1/79387', 'https://spiral.imperial.ac.uk/handle/10044/1/79231', 'https://spiral.imperial.ac.uk/handle/10044/1/78965', 'https://spiral.imperial.ac.uk/handle/10044/1/78872', 'https://spiral.imperial.ac.uk/handle/10044/1/78707', 'https://spiral.imperial.ac.uk/handle/10044/1/78677', 'https://spiral.imperial.ac.uk/handle/10044/1/78670', 'https://spiral.imperial.ac.uk/handle/10044/1/78668', 'https://spiral.imperial.ac.uk/handle/10044/1/78613', 'https://spiral.imperial.ac.uk/handle/10044/1/78559', 'https://spiral.imperial.ac.uk/handle/10044/1/78439', 'https://spiral.imperial.ac.uk/handle/10044/1/78033', 'https://spiral.imperial.ac.uk/handle/10044/1/77970', 'https://spiral.imperial.ac.uk/handle/10044/1/77842', 'https://spiral.imperial.ac.uk/handle/10044/1/77731', 'https://spiral.imperial.ac.uk/handle/10044/1/77735', 'https://spiral.imperial.ac.uk/handle/10044/1/77646', 'https://spiral.imperial.ac.uk/handle/10044/1/77581', 'https://spiral.imperial.ac.uk/handle/10044/1/77482', 'https://spiral.imperial.ac.uk/handle/10044/1/77344', 'https://spiral.imperial.ac.uk/handle/10044/1/77295', 'https://spiral.imperial.ac.uk/handle/10044/1/77168', 'https://spiral.imperial.ac.uk/handle/10044/1/77169', 'https://spiral.imperial.ac.uk/handle/10044/1/77154', 'https://spiral.imperial.ac.uk/handle/10044/1/77148', 'https://spiral.imperial.ac.uk/handle/10044/1/77150', 'https://spiral.imperial.ac.uk/handle/10044/1/77149']\n"
     ]
    }
   ],
   "source": [
    "reports_url = 'https://spiral.imperial.ac.uk/handle/10044/1/78555/simple-search?location=10044%2F1%2F78555&query=&filter_field_1=type&filter_type_1=equals&filter_value_1=Report&rpp=100&sort_by=dc.date.issued_dt&order=DESC&etal=0&submit_search=Update'\n",
    "url_list = get_report_links(reports_url)\n",
    "print(url_list)"
   ]
  },
  {
   "cell_type": "code",
   "execution_count": 9,
   "metadata": {},
   "outputs": [
    {
     "name": "stdout",
     "output_type": "stream",
     "text": [
      "there are  10  urls to parse.\n",
      "retrieving record for  https://spiral.imperial.ac.uk:8443//handle/10044/1/78707\n"
     ]
    },
    {
     "ename": "ConnectionError",
     "evalue": "HTTPSConnectionPool(host='spiral.imperial.ac.uk', port=8443): Max retries exceeded with url: //handle/10044/1/78707 (Caused by NewConnectionError('<urllib3.connection.HTTPSConnection object at 0x0000027EAD370BB0>: Failed to establish a new connection: [WinError 10060] A connection attempt failed because the connected party did not properly respond after a period of time, or established connection failed because connected host has failed to respond'))",
     "output_type": "error",
     "traceback": [
      "\u001b[1;31m---------------------------------------------------------------------------\u001b[0m",
      "\u001b[1;31mTimeoutError\u001b[0m                              Traceback (most recent call last)",
      "\u001b[1;32m~\\Anaconda3\\envs\\outbreak\\lib\\site-packages\\urllib3\\connection.py\u001b[0m in \u001b[0;36m_new_conn\u001b[1;34m(self)\u001b[0m\n\u001b[0;32m    173\u001b[0m         \u001b[1;32mtry\u001b[0m\u001b[1;33m:\u001b[0m\u001b[1;33m\u001b[0m\u001b[1;33m\u001b[0m\u001b[0m\n\u001b[1;32m--> 174\u001b[1;33m             conn = connection.create_connection(\n\u001b[0m\u001b[0;32m    175\u001b[0m                 \u001b[1;33m(\u001b[0m\u001b[0mself\u001b[0m\u001b[1;33m.\u001b[0m\u001b[0m_dns_host\u001b[0m\u001b[1;33m,\u001b[0m \u001b[0mself\u001b[0m\u001b[1;33m.\u001b[0m\u001b[0mport\u001b[0m\u001b[1;33m)\u001b[0m\u001b[1;33m,\u001b[0m \u001b[0mself\u001b[0m\u001b[1;33m.\u001b[0m\u001b[0mtimeout\u001b[0m\u001b[1;33m,\u001b[0m \u001b[1;33m**\u001b[0m\u001b[0mextra_kw\u001b[0m\u001b[1;33m\u001b[0m\u001b[1;33m\u001b[0m\u001b[0m\n",
      "\u001b[1;32m~\\Anaconda3\\envs\\outbreak\\lib\\site-packages\\urllib3\\util\\connection.py\u001b[0m in \u001b[0;36mcreate_connection\u001b[1;34m(address, timeout, source_address, socket_options)\u001b[0m\n\u001b[0;32m     95\u001b[0m     \u001b[1;32mif\u001b[0m \u001b[0merr\u001b[0m \u001b[1;32mis\u001b[0m \u001b[1;32mnot\u001b[0m \u001b[1;32mNone\u001b[0m\u001b[1;33m:\u001b[0m\u001b[1;33m\u001b[0m\u001b[1;33m\u001b[0m\u001b[0m\n\u001b[1;32m---> 96\u001b[1;33m         \u001b[1;32mraise\u001b[0m \u001b[0merr\u001b[0m\u001b[1;33m\u001b[0m\u001b[1;33m\u001b[0m\u001b[0m\n\u001b[0m\u001b[0;32m     97\u001b[0m \u001b[1;33m\u001b[0m\u001b[0m\n",
      "\u001b[1;32m~\\Anaconda3\\envs\\outbreak\\lib\\site-packages\\urllib3\\util\\connection.py\u001b[0m in \u001b[0;36mcreate_connection\u001b[1;34m(address, timeout, source_address, socket_options)\u001b[0m\n\u001b[0;32m     85\u001b[0m                 \u001b[0msock\u001b[0m\u001b[1;33m.\u001b[0m\u001b[0mbind\u001b[0m\u001b[1;33m(\u001b[0m\u001b[0msource_address\u001b[0m\u001b[1;33m)\u001b[0m\u001b[1;33m\u001b[0m\u001b[1;33m\u001b[0m\u001b[0m\n\u001b[1;32m---> 86\u001b[1;33m             \u001b[0msock\u001b[0m\u001b[1;33m.\u001b[0m\u001b[0mconnect\u001b[0m\u001b[1;33m(\u001b[0m\u001b[0msa\u001b[0m\u001b[1;33m)\u001b[0m\u001b[1;33m\u001b[0m\u001b[1;33m\u001b[0m\u001b[0m\n\u001b[0m\u001b[0;32m     87\u001b[0m             \u001b[1;32mreturn\u001b[0m \u001b[0msock\u001b[0m\u001b[1;33m\u001b[0m\u001b[1;33m\u001b[0m\u001b[0m\n",
      "\u001b[1;31mTimeoutError\u001b[0m: [WinError 10060] A connection attempt failed because the connected party did not properly respond after a period of time, or established connection failed because connected host has failed to respond",
      "\nDuring handling of the above exception, another exception occurred:\n",
      "\u001b[1;31mNewConnectionError\u001b[0m                        Traceback (most recent call last)",
      "\u001b[1;32m~\\Anaconda3\\envs\\outbreak\\lib\\site-packages\\urllib3\\connectionpool.py\u001b[0m in \u001b[0;36murlopen\u001b[1;34m(self, method, url, body, headers, retries, redirect, assert_same_host, timeout, pool_timeout, release_conn, chunked, body_pos, **response_kw)\u001b[0m\n\u001b[0;32m    698\u001b[0m             \u001b[1;31m# Make the request on the httplib connection object.\u001b[0m\u001b[1;33m\u001b[0m\u001b[1;33m\u001b[0m\u001b[1;33m\u001b[0m\u001b[0m\n\u001b[1;32m--> 699\u001b[1;33m             httplib_response = self._make_request(\n\u001b[0m\u001b[0;32m    700\u001b[0m                 \u001b[0mconn\u001b[0m\u001b[1;33m,\u001b[0m\u001b[1;33m\u001b[0m\u001b[1;33m\u001b[0m\u001b[0m\n",
      "\u001b[1;32m~\\Anaconda3\\envs\\outbreak\\lib\\site-packages\\urllib3\\connectionpool.py\u001b[0m in \u001b[0;36m_make_request\u001b[1;34m(self, conn, method, url, timeout, chunked, **httplib_request_kw)\u001b[0m\n\u001b[0;32m    381\u001b[0m         \u001b[1;32mtry\u001b[0m\u001b[1;33m:\u001b[0m\u001b[1;33m\u001b[0m\u001b[1;33m\u001b[0m\u001b[0m\n\u001b[1;32m--> 382\u001b[1;33m             \u001b[0mself\u001b[0m\u001b[1;33m.\u001b[0m\u001b[0m_validate_conn\u001b[0m\u001b[1;33m(\u001b[0m\u001b[0mconn\u001b[0m\u001b[1;33m)\u001b[0m\u001b[1;33m\u001b[0m\u001b[1;33m\u001b[0m\u001b[0m\n\u001b[0m\u001b[0;32m    383\u001b[0m         \u001b[1;32mexcept\u001b[0m \u001b[1;33m(\u001b[0m\u001b[0mSocketTimeout\u001b[0m\u001b[1;33m,\u001b[0m \u001b[0mBaseSSLError\u001b[0m\u001b[1;33m)\u001b[0m \u001b[1;32mas\u001b[0m \u001b[0me\u001b[0m\u001b[1;33m:\u001b[0m\u001b[1;33m\u001b[0m\u001b[1;33m\u001b[0m\u001b[0m\n",
      "\u001b[1;32m~\\Anaconda3\\envs\\outbreak\\lib\\site-packages\\urllib3\\connectionpool.py\u001b[0m in \u001b[0;36m_validate_conn\u001b[1;34m(self, conn)\u001b[0m\n\u001b[0;32m   1009\u001b[0m         \u001b[1;32mif\u001b[0m \u001b[1;32mnot\u001b[0m \u001b[0mgetattr\u001b[0m\u001b[1;33m(\u001b[0m\u001b[0mconn\u001b[0m\u001b[1;33m,\u001b[0m \u001b[1;34m\"sock\"\u001b[0m\u001b[1;33m,\u001b[0m \u001b[1;32mNone\u001b[0m\u001b[1;33m)\u001b[0m\u001b[1;33m:\u001b[0m  \u001b[1;31m# AppEngine might not have  `.sock`\u001b[0m\u001b[1;33m\u001b[0m\u001b[1;33m\u001b[0m\u001b[0m\n\u001b[1;32m-> 1010\u001b[1;33m             \u001b[0mconn\u001b[0m\u001b[1;33m.\u001b[0m\u001b[0mconnect\u001b[0m\u001b[1;33m(\u001b[0m\u001b[1;33m)\u001b[0m\u001b[1;33m\u001b[0m\u001b[1;33m\u001b[0m\u001b[0m\n\u001b[0m\u001b[0;32m   1011\u001b[0m \u001b[1;33m\u001b[0m\u001b[0m\n",
      "\u001b[1;32m~\\Anaconda3\\envs\\outbreak\\lib\\site-packages\\urllib3\\connection.py\u001b[0m in \u001b[0;36mconnect\u001b[1;34m(self)\u001b[0m\n\u001b[0;32m    357\u001b[0m         \u001b[1;31m# Add certificate verification\u001b[0m\u001b[1;33m\u001b[0m\u001b[1;33m\u001b[0m\u001b[1;33m\u001b[0m\u001b[0m\n\u001b[1;32m--> 358\u001b[1;33m         \u001b[0mconn\u001b[0m \u001b[1;33m=\u001b[0m \u001b[0mself\u001b[0m\u001b[1;33m.\u001b[0m\u001b[0m_new_conn\u001b[0m\u001b[1;33m(\u001b[0m\u001b[1;33m)\u001b[0m\u001b[1;33m\u001b[0m\u001b[1;33m\u001b[0m\u001b[0m\n\u001b[0m\u001b[0;32m    359\u001b[0m         \u001b[0mhostname\u001b[0m \u001b[1;33m=\u001b[0m \u001b[0mself\u001b[0m\u001b[1;33m.\u001b[0m\u001b[0mhost\u001b[0m\u001b[1;33m\u001b[0m\u001b[1;33m\u001b[0m\u001b[0m\n",
      "\u001b[1;32m~\\Anaconda3\\envs\\outbreak\\lib\\site-packages\\urllib3\\connection.py\u001b[0m in \u001b[0;36m_new_conn\u001b[1;34m(self)\u001b[0m\n\u001b[0;32m    185\u001b[0m         \u001b[1;32mexcept\u001b[0m \u001b[0mSocketError\u001b[0m \u001b[1;32mas\u001b[0m \u001b[0me\u001b[0m\u001b[1;33m:\u001b[0m\u001b[1;33m\u001b[0m\u001b[1;33m\u001b[0m\u001b[0m\n\u001b[1;32m--> 186\u001b[1;33m             raise NewConnectionError(\n\u001b[0m\u001b[0;32m    187\u001b[0m                 \u001b[0mself\u001b[0m\u001b[1;33m,\u001b[0m \u001b[1;34m\"Failed to establish a new connection: %s\"\u001b[0m \u001b[1;33m%\u001b[0m \u001b[0me\u001b[0m\u001b[1;33m\u001b[0m\u001b[1;33m\u001b[0m\u001b[0m\n",
      "\u001b[1;31mNewConnectionError\u001b[0m: <urllib3.connection.HTTPSConnection object at 0x0000027EAD370BB0>: Failed to establish a new connection: [WinError 10060] A connection attempt failed because the connected party did not properly respond after a period of time, or established connection failed because connected host has failed to respond",
      "\nDuring handling of the above exception, another exception occurred:\n",
      "\u001b[1;31mMaxRetryError\u001b[0m                             Traceback (most recent call last)",
      "\u001b[1;32m~\\Anaconda3\\envs\\outbreak\\lib\\site-packages\\requests\\adapters.py\u001b[0m in \u001b[0;36msend\u001b[1;34m(self, request, stream, timeout, verify, cert, proxies)\u001b[0m\n\u001b[0;32m    438\u001b[0m             \u001b[1;32mif\u001b[0m \u001b[1;32mnot\u001b[0m \u001b[0mchunked\u001b[0m\u001b[1;33m:\u001b[0m\u001b[1;33m\u001b[0m\u001b[1;33m\u001b[0m\u001b[0m\n\u001b[1;32m--> 439\u001b[1;33m                 resp = conn.urlopen(\n\u001b[0m\u001b[0;32m    440\u001b[0m                     \u001b[0mmethod\u001b[0m\u001b[1;33m=\u001b[0m\u001b[0mrequest\u001b[0m\u001b[1;33m.\u001b[0m\u001b[0mmethod\u001b[0m\u001b[1;33m,\u001b[0m\u001b[1;33m\u001b[0m\u001b[1;33m\u001b[0m\u001b[0m\n",
      "\u001b[1;32m~\\Anaconda3\\envs\\outbreak\\lib\\site-packages\\urllib3\\connectionpool.py\u001b[0m in \u001b[0;36murlopen\u001b[1;34m(self, method, url, body, headers, retries, redirect, assert_same_host, timeout, pool_timeout, release_conn, chunked, body_pos, **response_kw)\u001b[0m\n\u001b[0;32m    754\u001b[0m \u001b[1;33m\u001b[0m\u001b[0m\n\u001b[1;32m--> 755\u001b[1;33m             retries = retries.increment(\n\u001b[0m\u001b[0;32m    756\u001b[0m                 \u001b[0mmethod\u001b[0m\u001b[1;33m,\u001b[0m \u001b[0murl\u001b[0m\u001b[1;33m,\u001b[0m \u001b[0merror\u001b[0m\u001b[1;33m=\u001b[0m\u001b[0me\u001b[0m\u001b[1;33m,\u001b[0m \u001b[0m_pool\u001b[0m\u001b[1;33m=\u001b[0m\u001b[0mself\u001b[0m\u001b[1;33m,\u001b[0m \u001b[0m_stacktrace\u001b[0m\u001b[1;33m=\u001b[0m\u001b[0msys\u001b[0m\u001b[1;33m.\u001b[0m\u001b[0mexc_info\u001b[0m\u001b[1;33m(\u001b[0m\u001b[1;33m)\u001b[0m\u001b[1;33m[\u001b[0m\u001b[1;36m2\u001b[0m\u001b[1;33m]\u001b[0m\u001b[1;33m\u001b[0m\u001b[1;33m\u001b[0m\u001b[0m\n",
      "\u001b[1;32m~\\Anaconda3\\envs\\outbreak\\lib\\site-packages\\urllib3\\util\\retry.py\u001b[0m in \u001b[0;36mincrement\u001b[1;34m(self, method, url, response, error, _pool, _stacktrace)\u001b[0m\n\u001b[0;32m    573\u001b[0m         \u001b[1;32mif\u001b[0m \u001b[0mnew_retry\u001b[0m\u001b[1;33m.\u001b[0m\u001b[0mis_exhausted\u001b[0m\u001b[1;33m(\u001b[0m\u001b[1;33m)\u001b[0m\u001b[1;33m:\u001b[0m\u001b[1;33m\u001b[0m\u001b[1;33m\u001b[0m\u001b[0m\n\u001b[1;32m--> 574\u001b[1;33m             \u001b[1;32mraise\u001b[0m \u001b[0mMaxRetryError\u001b[0m\u001b[1;33m(\u001b[0m\u001b[0m_pool\u001b[0m\u001b[1;33m,\u001b[0m \u001b[0murl\u001b[0m\u001b[1;33m,\u001b[0m \u001b[0merror\u001b[0m \u001b[1;32mor\u001b[0m \u001b[0mResponseError\u001b[0m\u001b[1;33m(\u001b[0m\u001b[0mcause\u001b[0m\u001b[1;33m)\u001b[0m\u001b[1;33m)\u001b[0m\u001b[1;33m\u001b[0m\u001b[1;33m\u001b[0m\u001b[0m\n\u001b[0m\u001b[0;32m    575\u001b[0m \u001b[1;33m\u001b[0m\u001b[0m\n",
      "\u001b[1;31mMaxRetryError\u001b[0m: HTTPSConnectionPool(host='spiral.imperial.ac.uk', port=8443): Max retries exceeded with url: //handle/10044/1/78707 (Caused by NewConnectionError('<urllib3.connection.HTTPSConnection object at 0x0000027EAD370BB0>: Failed to establish a new connection: [WinError 10060] A connection attempt failed because the connected party did not properly respond after a period of time, or established connection failed because connected host has failed to respond'))",
      "\nDuring handling of the above exception, another exception occurred:\n",
      "\u001b[1;31mConnectionError\u001b[0m                           Traceback (most recent call last)",
      "\u001b[1;32m~\\AppData\\Local\\Temp/ipykernel_13868/2275383039.py\u001b[0m in \u001b[0;36m<module>\u001b[1;34m\u001b[0m\n\u001b[0;32m      8\u001b[0m \u001b[1;32mfor\u001b[0m \u001b[0meach_url\u001b[0m \u001b[1;32min\u001b[0m \u001b[0murl_list\u001b[0m\u001b[1;33m[\u001b[0m\u001b[1;36m0\u001b[0m\u001b[1;33m:\u001b[0m\u001b[1;36m2\u001b[0m\u001b[1;33m]\u001b[0m\u001b[1;33m:\u001b[0m\u001b[1;33m\u001b[0m\u001b[1;33m\u001b[0m\u001b[0m\n\u001b[0;32m      9\u001b[0m     \u001b[0mprint\u001b[0m\u001b[1;33m(\u001b[0m\u001b[1;34m\"retrieving record for \"\u001b[0m\u001b[1;33m,\u001b[0m\u001b[0meach_url\u001b[0m\u001b[1;33m)\u001b[0m\u001b[1;33m\u001b[0m\u001b[1;33m\u001b[0m\u001b[0m\n\u001b[1;32m---> 10\u001b[1;33m     \u001b[0mrecord_result\u001b[0m \u001b[1;33m=\u001b[0m \u001b[0mrequests\u001b[0m\u001b[1;33m.\u001b[0m\u001b[0mget\u001b[0m\u001b[1;33m(\u001b[0m\u001b[0meach_url\u001b[0m\u001b[1;33m)\u001b[0m\u001b[1;33m\u001b[0m\u001b[1;33m\u001b[0m\u001b[0m\n\u001b[0m\u001b[0;32m     11\u001b[0m     \u001b[0mprint\u001b[0m\u001b[1;33m(\u001b[0m\u001b[1;34m\"parsing record\"\u001b[0m\u001b[1;33m)\u001b[0m\u001b[1;33m\u001b[0m\u001b[1;33m\u001b[0m\u001b[0m\n\u001b[0;32m     12\u001b[0m     \u001b[0mparsed_record\u001b[0m \u001b[1;33m=\u001b[0m \u001b[0mBeautifulSoup\u001b[0m\u001b[1;33m(\u001b[0m\u001b[0mrecord_result\u001b[0m\u001b[1;33m.\u001b[0m\u001b[0mtext\u001b[0m\u001b[1;33m,\u001b[0m \u001b[1;34m\"html.parser\"\u001b[0m\u001b[1;33m)\u001b[0m\u001b[1;33m\u001b[0m\u001b[1;33m\u001b[0m\u001b[0m\n",
      "\u001b[1;32m~\\Anaconda3\\envs\\outbreak\\lib\\site-packages\\requests\\api.py\u001b[0m in \u001b[0;36mget\u001b[1;34m(url, params, **kwargs)\u001b[0m\n\u001b[0;32m     73\u001b[0m     \"\"\"\n\u001b[0;32m     74\u001b[0m \u001b[1;33m\u001b[0m\u001b[0m\n\u001b[1;32m---> 75\u001b[1;33m     \u001b[1;32mreturn\u001b[0m \u001b[0mrequest\u001b[0m\u001b[1;33m(\u001b[0m\u001b[1;34m'get'\u001b[0m\u001b[1;33m,\u001b[0m \u001b[0murl\u001b[0m\u001b[1;33m,\u001b[0m \u001b[0mparams\u001b[0m\u001b[1;33m=\u001b[0m\u001b[0mparams\u001b[0m\u001b[1;33m,\u001b[0m \u001b[1;33m**\u001b[0m\u001b[0mkwargs\u001b[0m\u001b[1;33m)\u001b[0m\u001b[1;33m\u001b[0m\u001b[1;33m\u001b[0m\u001b[0m\n\u001b[0m\u001b[0;32m     76\u001b[0m \u001b[1;33m\u001b[0m\u001b[0m\n\u001b[0;32m     77\u001b[0m \u001b[1;33m\u001b[0m\u001b[0m\n",
      "\u001b[1;32m~\\Anaconda3\\envs\\outbreak\\lib\\site-packages\\requests\\api.py\u001b[0m in \u001b[0;36mrequest\u001b[1;34m(method, url, **kwargs)\u001b[0m\n\u001b[0;32m     59\u001b[0m     \u001b[1;31m# cases, and look like a memory leak in others.\u001b[0m\u001b[1;33m\u001b[0m\u001b[1;33m\u001b[0m\u001b[1;33m\u001b[0m\u001b[0m\n\u001b[0;32m     60\u001b[0m     \u001b[1;32mwith\u001b[0m \u001b[0msessions\u001b[0m\u001b[1;33m.\u001b[0m\u001b[0mSession\u001b[0m\u001b[1;33m(\u001b[0m\u001b[1;33m)\u001b[0m \u001b[1;32mas\u001b[0m \u001b[0msession\u001b[0m\u001b[1;33m:\u001b[0m\u001b[1;33m\u001b[0m\u001b[1;33m\u001b[0m\u001b[0m\n\u001b[1;32m---> 61\u001b[1;33m         \u001b[1;32mreturn\u001b[0m \u001b[0msession\u001b[0m\u001b[1;33m.\u001b[0m\u001b[0mrequest\u001b[0m\u001b[1;33m(\u001b[0m\u001b[0mmethod\u001b[0m\u001b[1;33m=\u001b[0m\u001b[0mmethod\u001b[0m\u001b[1;33m,\u001b[0m \u001b[0murl\u001b[0m\u001b[1;33m=\u001b[0m\u001b[0murl\u001b[0m\u001b[1;33m,\u001b[0m \u001b[1;33m**\u001b[0m\u001b[0mkwargs\u001b[0m\u001b[1;33m)\u001b[0m\u001b[1;33m\u001b[0m\u001b[1;33m\u001b[0m\u001b[0m\n\u001b[0m\u001b[0;32m     62\u001b[0m \u001b[1;33m\u001b[0m\u001b[0m\n\u001b[0;32m     63\u001b[0m \u001b[1;33m\u001b[0m\u001b[0m\n",
      "\u001b[1;32m~\\Anaconda3\\envs\\outbreak\\lib\\site-packages\\requests\\sessions.py\u001b[0m in \u001b[0;36mrequest\u001b[1;34m(self, method, url, params, data, headers, cookies, files, auth, timeout, allow_redirects, proxies, hooks, stream, verify, cert, json)\u001b[0m\n\u001b[0;32m    540\u001b[0m         }\n\u001b[0;32m    541\u001b[0m         \u001b[0msend_kwargs\u001b[0m\u001b[1;33m.\u001b[0m\u001b[0mupdate\u001b[0m\u001b[1;33m(\u001b[0m\u001b[0msettings\u001b[0m\u001b[1;33m)\u001b[0m\u001b[1;33m\u001b[0m\u001b[1;33m\u001b[0m\u001b[0m\n\u001b[1;32m--> 542\u001b[1;33m         \u001b[0mresp\u001b[0m \u001b[1;33m=\u001b[0m \u001b[0mself\u001b[0m\u001b[1;33m.\u001b[0m\u001b[0msend\u001b[0m\u001b[1;33m(\u001b[0m\u001b[0mprep\u001b[0m\u001b[1;33m,\u001b[0m \u001b[1;33m**\u001b[0m\u001b[0msend_kwargs\u001b[0m\u001b[1;33m)\u001b[0m\u001b[1;33m\u001b[0m\u001b[1;33m\u001b[0m\u001b[0m\n\u001b[0m\u001b[0;32m    543\u001b[0m \u001b[1;33m\u001b[0m\u001b[0m\n\u001b[0;32m    544\u001b[0m         \u001b[1;32mreturn\u001b[0m \u001b[0mresp\u001b[0m\u001b[1;33m\u001b[0m\u001b[1;33m\u001b[0m\u001b[0m\n",
      "\u001b[1;32m~\\Anaconda3\\envs\\outbreak\\lib\\site-packages\\requests\\sessions.py\u001b[0m in \u001b[0;36msend\u001b[1;34m(self, request, **kwargs)\u001b[0m\n\u001b[0;32m    653\u001b[0m \u001b[1;33m\u001b[0m\u001b[0m\n\u001b[0;32m    654\u001b[0m         \u001b[1;31m# Send the request\u001b[0m\u001b[1;33m\u001b[0m\u001b[1;33m\u001b[0m\u001b[1;33m\u001b[0m\u001b[0m\n\u001b[1;32m--> 655\u001b[1;33m         \u001b[0mr\u001b[0m \u001b[1;33m=\u001b[0m \u001b[0madapter\u001b[0m\u001b[1;33m.\u001b[0m\u001b[0msend\u001b[0m\u001b[1;33m(\u001b[0m\u001b[0mrequest\u001b[0m\u001b[1;33m,\u001b[0m \u001b[1;33m**\u001b[0m\u001b[0mkwargs\u001b[0m\u001b[1;33m)\u001b[0m\u001b[1;33m\u001b[0m\u001b[1;33m\u001b[0m\u001b[0m\n\u001b[0m\u001b[0;32m    656\u001b[0m \u001b[1;33m\u001b[0m\u001b[0m\n\u001b[0;32m    657\u001b[0m         \u001b[1;31m# Total elapsed time of the request (approximately)\u001b[0m\u001b[1;33m\u001b[0m\u001b[1;33m\u001b[0m\u001b[1;33m\u001b[0m\u001b[0m\n",
      "\u001b[1;32m~\\Anaconda3\\envs\\outbreak\\lib\\site-packages\\requests\\adapters.py\u001b[0m in \u001b[0;36msend\u001b[1;34m(self, request, stream, timeout, verify, cert, proxies)\u001b[0m\n\u001b[0;32m    514\u001b[0m                 \u001b[1;32mraise\u001b[0m \u001b[0mSSLError\u001b[0m\u001b[1;33m(\u001b[0m\u001b[0me\u001b[0m\u001b[1;33m,\u001b[0m \u001b[0mrequest\u001b[0m\u001b[1;33m=\u001b[0m\u001b[0mrequest\u001b[0m\u001b[1;33m)\u001b[0m\u001b[1;33m\u001b[0m\u001b[1;33m\u001b[0m\u001b[0m\n\u001b[0;32m    515\u001b[0m \u001b[1;33m\u001b[0m\u001b[0m\n\u001b[1;32m--> 516\u001b[1;33m             \u001b[1;32mraise\u001b[0m \u001b[0mConnectionError\u001b[0m\u001b[1;33m(\u001b[0m\u001b[0me\u001b[0m\u001b[1;33m,\u001b[0m \u001b[0mrequest\u001b[0m\u001b[1;33m=\u001b[0m\u001b[0mrequest\u001b[0m\u001b[1;33m)\u001b[0m\u001b[1;33m\u001b[0m\u001b[1;33m\u001b[0m\u001b[0m\n\u001b[0m\u001b[0;32m    517\u001b[0m \u001b[1;33m\u001b[0m\u001b[0m\n\u001b[0;32m    518\u001b[0m         \u001b[1;32mexcept\u001b[0m \u001b[0mClosedPoolError\u001b[0m \u001b[1;32mas\u001b[0m \u001b[0me\u001b[0m\u001b[1;33m:\u001b[0m\u001b[1;33m\u001b[0m\u001b[1;33m\u001b[0m\u001b[0m\n",
      "\u001b[1;31mConnectionError\u001b[0m: HTTPSConnectionPool(host='spiral.imperial.ac.uk', port=8443): Max retries exceeded with url: //handle/10044/1/78707 (Caused by NewConnectionError('<urllib3.connection.HTTPSConnection object at 0x0000027EAD370BB0>: Failed to establish a new connection: [WinError 10060] A connection attempt failed because the connected party did not properly respond after a period of time, or established connection failed because connected host has failed to respond'))"
     ]
    }
   ],
   "source": [
    "#reports_url = 'https://spiral.imperial.ac.uk:8443/handle/10044/1/78555/simple-search?location=10044%2F1%2F78555&query=&filter_field_1=type&filter_type_1=equals&filter_value_1=Report&rpp=100&sort_by=score&order=DESC&etal=1&submit_search=Update'\n",
    "reports_url = 'https://spiral.imperial.ac.uk/handle/10044/1/78555/simple-search?location=10044%2F1%2F78555&query=&filter_field_1=type&filter_type_1=equals&filter_value_1=Report&rpp=100&sort_by=dc.date.issued_dt&order=DESC&etal=0&submit_search=Update'\n",
    "url_list = get_report_links(reports_url)\n",
    "print(\"there are \",len(url_list),\" urls to parse.\")\n",
    "curatedBy = create_curationObject()\n",
    "\n",
    "## Pull the metadata from each report link and throw it into a dictionary\n",
    "for each_url in url_list[0:2]:\n",
    "    print(\"retrieving record for \",each_url)\n",
    "    record_result = requests.get(each_url)\n",
    "    print(\"parsing record\")\n",
    "    parsed_record = BeautifulSoup(record_result.text, \"html.parser\")\n",
    "    print(\"transforming parsed record\")\n",
    "    base_info = transform_pub_meta(parsed_record)\n",
    "    base_info[\"curatedBy\"] = curatedBy\n",
    "    print(\"fetching the authors\")\n",
    "    author_list = get_authors(parsed_record)\n",
    "    print(\"fetching the funders\")\n",
    "    fund_list, fund_flag = get_funding(parsed_record)\n",
    "    ## Create the Json\n",
    "    print(\"creating the json file\")\n",
    "    base_info[\"author\"] = author_list\n",
    "    if fund_flag == True:\n",
    "        base_info[\"funding\"] = fund_list\n",
    "    print(\"presenting the results ... \")\n",
    "    print(\"\\n\")\n",
    "    print(base_info)\n",
    "    print(\"\\n\")\n",
    "    print(\"starting next record ...\")\n",
    "    print(\"\\n\")\n"
   ]
  },
  {
   "cell_type": "code",
   "execution_count": null,
   "metadata": {},
   "outputs": [],
   "source": [
    "\n",
    "\n",
    "fundersfield = parsed_record.findAll(\"meta\", {\"name\":\"DC.contributor\"})\n",
    "funders = get_meta_content(fundersfield)\n",
    "fundercheck = len(fundersfield)\n",
    "identifiersfield = parsed_record.findAll(\"meta\", {\"name\":\"DC.identifier\"})\n",
    "if fundercheck > 0:\n",
    "    identifiersfield = parsed_record.findAll(\"meta\", {\"name\":\"DC.identifier\"}) \n",
    "    fundidlist = []\n",
    "    for eachitem in identifiersfield:\n",
    "        eachitemcontent = eachitem.get(\"content\")\n",
    "        if (\"https:\" in eachitemcontent) or (\"http:\" in eachitemcontent):\n",
    "            miscurls = eachitemcontent\n",
    "        else:\n",
    "            fundingid = eachitemcontent\n",
    "            fundidlist.append(fundingid)\n",
    "    fundlist = []\n",
    "    i=0\n",
    "    if len(funders)==len(fundidlist):\n",
    "        while i < len(funders):\n",
    "            fundict = generate_funding_dict(funders[i],fundidlist[i])\n",
    "            fundlist.append(fundict)\n",
    "            i=i+1\n",
    "    elif len(funders)>len(fundidlist):\n",
    "        mrfunds = [x for x in funders if \"MRC\" in x]\n",
    "        mrids = [x for x in fundidlist if \"MR\" in x]\n",
    "        while i < len(mrfunds):\n",
    "            fundict = generate_funding_dict(mrfunds[i],mrids[i])\n",
    "            fundlist.append(fundict)\n",
    "            i=i+1\n",
    "        remaining_funders = [x for x in funders if x not in mrfunds]\n",
    "        remaining_fundids = [x for x in fundidlist if x not in mrids]\n",
    "        print(remaining_funders,len(remaining_funders))\n",
    "        print(remaining_fundids,len(remaining_fundids))\n",
    "        j=0\n",
    "        if (len(remaining_fundids)==0) and (len(remaining_funders)>0):\n",
    "            while j<len(remaining_funders):\n",
    "                fundict = generate_funding_dict(remaining_funders[j])\n",
    "                fundlist.append(fundict)\n",
    "                j=j+1                         \n",
    "    fundflag = True\n",
    "else:\n",
    "    fundlist = []\n",
    "    fundflag = False"
   ]
  },
  {
   "cell_type": "code",
   "execution_count": null,
   "metadata": {},
   "outputs": [],
   "source": [
    "print(parsed_record)"
   ]
  },
  {
   "cell_type": "code",
   "execution_count": null,
   "metadata": {},
   "outputs": [],
   "source": [
    "for each_url in url_list[1:2]:\n",
    "    record_result = requests.get(each_url)\n",
    "    parsed_record = BeautifulSoup(record_result.text, \"html.parser\")\n",
    "    base_info = transform_pub_meta(parsed_record)\n",
    "    base_info[\"curatedBy\"] = curatedBy\n",
    "    author_list = get_authors(parsed_record)\n",
    "    print(\"fetching the funders\")\n",
    "    #fund_list, fund_flag = get_funding(parsed_record)\n",
    "    fundersfield = parsed_record.findAll(\"meta\", {\"name\":\"DC.contributor\"})\n",
    "    funders = get_meta_content(fundersfield)\n",
    "    fundercheck = len(fundersfield)\n",
    "    if fundercheck > 0:\n",
    "        identifiersfield = parsed_record.findAll(\"meta\", {\"name\":\"DC.identifier\"}) \n",
    "        fundidlist = []\n",
    "        for eachitem in identifiersfield:\n",
    "            eachitemcontent = eachitem.get(\"content\")\n",
    "            if (\"https:\" in eachitemcontent) or (\"http:\" in eachitemcontent):\n",
    "                miscurls = eachitemcontent\n",
    "            else:\n",
    "                fundingid = eachitemcontent\n",
    "                fundidlist.append(fundingid)\n",
    "        fundlist = []\n",
    "        i=0\n",
    "        while i < len(funders):\n",
    "            fundict = {\"@type\": \"MonetaryGrant\",\n",
    "                       \"funder\": {\n",
    "                       \"name\": funders[i]\n",
    "                       },\n",
    "                      \"identifier\": fundidlist[i],\n",
    "                      \"name\": \"\"\n",
    "            }\n",
    "            fundlist.append(fundict)\n",
    "        fundflag = True\n",
    "    else:\n",
    "        fundlist = []\n",
    "        fundflag = False\n",
    "\"\"\"   \n",
    "    ## Create the Json\n",
    "    print(\"creating the json file\")\n",
    "    base_info[\"author\"] = author_list\n",
    "    if fund_flag == True:\n",
    "        base_info[\"funding\"] = fund_list\n",
    "    print(\"presenting the results ... \")\n",
    "    print(\"\\n\")\n",
    "    print(base_info)\n",
    "\n",
    "\"\"\""
   ]
  }
 ],
 "metadata": {
  "kernelspec": {
   "display_name": "Python 3 (ipykernel)",
   "language": "python",
   "name": "python3"
  },
  "language_info": {
   "codemirror_mode": {
    "name": "ipython",
    "version": 3
   },
   "file_extension": ".py",
   "mimetype": "text/x-python",
   "name": "python",
   "nbconvert_exporter": "python",
   "pygments_lexer": "ipython3",
   "version": "3.8.5"
  }
 },
 "nbformat": 4,
 "nbformat_minor": 2
}
